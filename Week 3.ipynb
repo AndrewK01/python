{
 "cells": [
  {
   "cell_type": "markdown",
   "metadata": {},
   "source": [
    "# User Input and Conditionals"
   ]
  },
  {
   "cell_type": "code",
   "execution_count": 3,
   "metadata": {},
   "outputs": [
    {
     "name": "stdout",
     "output_type": "stream",
     "text": [
      "Football is my favorite sport\n"
     ]
    }
   ],
   "source": [
    "element = 'Football'\n",
    "print('{} is my favorite sport'.format(element))"
   ]
  },
  {
   "cell_type": "markdown",
   "metadata": {},
   "source": [
    "# User Input & Type Converting"
   ]
  },
  {
   "cell_type": "code",
   "execution_count": 4,
   "metadata": {},
   "outputs": [
    {
     "name": "stdout",
     "output_type": "stream",
     "text": [
      "What is your name?Andriy\n",
      "Andriy\n"
     ]
    }
   ],
   "source": [
    "# accepting and outputting user input\n",
    "print ( input(\"What is your name?\"))"
   ]
  },
  {
   "cell_type": "code",
   "execution_count": 5,
   "metadata": {},
   "outputs": [
    {
     "name": "stdout",
     "output_type": "stream",
     "text": [
      "What is your name?Andriy\n",
      "Hello Andriy!\n"
     ]
    }
   ],
   "source": [
    "# saving what the user inputs\n",
    "ans = input(\"What is your name?\")\n",
    "print(\"Hello {}!\".format(ans))"
   ]
  },
  {
   "cell_type": "code",
   "execution_count": 6,
   "metadata": {},
   "outputs": [
    {
     "name": "stdout",
     "output_type": "stream",
     "text": [
      "<class 'int'>\n"
     ]
    }
   ],
   "source": [
    "# how to check the data type of a variable\n",
    "num = 5\n",
    "print (type(num))"
   ]
  },
  {
   "cell_type": "code",
   "execution_count": 19,
   "metadata": {},
   "outputs": [
    {
     "name": "stdout",
     "output_type": "stream",
     "text": [
      "<class 'int'>\n"
     ]
    }
   ],
   "source": [
    "# converting a variable from one data type to another\n",
    "num = \"2\"\n",
    "num = int(num) # re-declaring num to store an int\n",
    "print(type(num)) # checking type to make sure conversion worked"
   ]
  },
  {
   "cell_type": "code",
   "execution_count": 1,
   "metadata": {},
   "outputs": [
    {
     "name": "stdout",
     "output_type": "stream",
     "text": [
      "Type a number to add:21\n",
      "<class 'str'>\n",
      "100+21=121\n"
     ]
    }
   ],
   "source": [
    "# working with user input to perform calculations\n",
    "ans = input(\"Type a number to add:\")\n",
    "print(type(ans))  # default type is str, must convert\n",
    "result = 100 + int(ans)\n",
    "print(\"100+{}={}\".format(ans,result))"
   ]
  },
  {
   "cell_type": "code",
   "execution_count": null,
   "metadata": {},
   "outputs": [],
   "source": [
    "# using try and except blocks, use tab to indent where necessary\n",
    "try:\n",
    "    ans = float( input(\"Type a number to add:\"))\n",
    "    print(\"100+{}={}\".format(ans,100+ans))\n",
    "except:\n",
    "    print(\"You did not put in a valid number!\")\n",
    "# without try/except print statement would not get hit if error occurs\n",
    "print(\"The program didn't break!\")"
   ]
  },
  {
   "cell_type": "code",
   "execution_count": null,
   "metadata": {},
   "outputs": [],
   "source": [
    "# Monday exercises\n",
    "x = \"True\"\n",
    "x = bool(x)\n",
    "print(type(x))"
   ]
  },
  {
   "cell_type": "code",
   "execution_count": 17,
   "metadata": {},
   "outputs": [
    {
     "name": "stdout",
     "output_type": "stream",
     "text": [
      "Please enter a number hui\n",
      "What's your problem retard?\n"
     ]
    }
   ],
   "source": [
    "# Monday exercises\n",
    "try:\n",
    "    num1 = int(input(\"Please enter a number \"))\n",
    "    num2 = int(input(\"Please enter a number \"))\n",
    "    result = num1 + num2\n",
    "    print(\"Hey man, that's your sum {} !\".format(result))\n",
    "except:\n",
    "    print(\"What's your problem retard?\")"
   ]
  },
  {
   "cell_type": "code",
   "execution_count": 6,
   "metadata": {},
   "outputs": [
    {
     "name": "stdout",
     "output_type": "stream",
     "text": [
      "Please enter year of manufacturing your car 2005\n",
      "Please enter make of your car toyota\n",
      "Please enter color of your car green\n",
      "Please enter model of your car corolla\n",
      "Wow, dude, you have fancy 2005 Toyota Green Corolla over here!\n"
     ]
    }
   ],
   "source": [
    "# Monday exercises\n",
    "try:\n",
    "    year = int(input(\"Please enter year of manufacturing your car \" ))\n",
    "    make = str(input(\"Please enter make of your car \" )).capitalize()\n",
    "    color = str(input(\"Please enter color of your car \" )).capitalize()\n",
    "    model = str(input(\"Please enter model of your car \" )).capitalize()\n",
    "    print(\"Wow, dude, you have fancy {} {} {} {} over here!\".format(year,make,color,model))\n",
    "except:\n",
    "    print(\"Chumba, ti sovsem?\")"
   ]
  },
  {
   "cell_type": "markdown",
   "metadata": {},
   "source": [
    "# If Statements"
   ]
  },
  {
   "cell_type": "code",
   "execution_count": 8,
   "metadata": {},
   "outputs": [],
   "source": [
    "# using an if statement to only run code if the condition is met\n",
    "x, y = 15, 10\n",
    "if x < y:\n",
    "    print(\"x is less than y\")"
   ]
  },
  {
   "cell_type": "code",
   "execution_count": 4,
   "metadata": {},
   "outputs": [
    {
     "name": "stdout",
     "output_type": "stream",
     "text": [
      "What's 5+5 ? 10\n",
      "Hell yeah man!\n"
     ]
    }
   ],
   "source": [
    "# checking user input\n",
    "ans = int(input(\"What's 5+5 ? \" ))\n",
    "if ans == 10:\n",
    "    print(\"Hell yeah man!\")"
   ]
  },
  {
   "cell_type": "code",
   "execution_count": null,
   "metadata": {},
   "outputs": [],
   "source": []
  }
 ],
 "metadata": {
  "kernelspec": {
   "display_name": "Python 3",
   "language": "python",
   "name": "python3"
  },
  "language_info": {
   "codemirror_mode": {
    "name": "ipython",
    "version": 3
   },
   "file_extension": ".py",
   "mimetype": "text/x-python",
   "name": "python",
   "nbconvert_exporter": "python",
   "pygments_lexer": "ipython3",
   "version": "3.8.5"
  }
 },
 "nbformat": 4,
 "nbformat_minor": 4
}
