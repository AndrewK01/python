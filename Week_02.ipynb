{
 "cells": [
  {
   "cell_type": "markdown",
   "metadata": {},
   "source": [
    "# Comments & Basic Data Types"
   ]
  },
  {
   "cell_type": "code",
   "execution_count": 9,
   "metadata": {},
   "outputs": [
    {
     "name": "stdout",
     "output_type": "stream",
     "text": [
      "Hello world\n"
     ]
    }
   ],
   "source": [
    "print(\"Hello world\") # this is a comment, man\n",
    "#but if i do this\n"
   ]
  },
  {
   "cell_type": "code",
   "execution_count": 7,
   "metadata": {},
   "outputs": [
    {
     "name": "stdout",
     "output_type": "stream",
     "text": [
      "is it working?\n"
     ]
    }
   ],
   "source": [
    "\"\"\"\n",
    "        hey thats comment?\n",
    "\"\"\"\n",
    "print(\"is it working?\")"
   ]
  },
  {
   "cell_type": "code",
   "execution_count": 10,
   "metadata": {},
   "outputs": [
    {
     "name": "stdout",
     "output_type": "stream",
     "text": [
      "5\n",
      "10\n"
     ]
    }
   ],
   "source": [
    "#its all about integers\n",
    "print(5)\n",
    "print(10)"
   ]
  },
  {
   "cell_type": "code",
   "execution_count": 14,
   "metadata": {},
   "outputs": [
    {
     "name": "stdout",
     "output_type": "stream",
     "text": [
      "5.1\n",
      "10.0\n"
     ]
    }
   ],
   "source": [
    "#float baby\n",
    "print(5.10)\n",
    "print(10.0) # this number is float somehow"
   ]
  },
  {
   "cell_type": "code",
   "execution_count": 15,
   "metadata": {},
   "outputs": [
    {
     "name": "stdout",
     "output_type": "stream",
     "text": [
      "True\n",
      "False\n"
     ]
    }
   ],
   "source": [
    "#BOOleans\n",
    "print(True)\n",
    "print(False)"
   ]
  },
  {
   "cell_type": "code",
   "execution_count": 16,
   "metadata": {
    "scrolled": true
   },
   "outputs": [
    {
     "name": "stdout",
     "output_type": "stream",
     "text": [
      "\n",
      "I am jedi\n",
      "True\n"
     ]
    }
   ],
   "source": [
    "#Strings\n",
    "print(\"\")\n",
    "print(\"I am jedi\")\n",
    "print('True')"
   ]
  },
  {
   "cell_type": "code",
   "execution_count": 17,
   "metadata": {},
   "outputs": [
    {
     "name": "stdout",
     "output_type": "stream",
     "text": [
      "Andriy Andrii Andrew\n"
     ]
    }
   ],
   "source": [
    "print(\"Andriy\",\"Andrii\",\"Andrew\")"
   ]
  },
  {
   "cell_type": "markdown",
   "metadata": {},
   "source": [
    "# Variables"
   ]
  },
  {
   "cell_type": "code",
   "execution_count": 47,
   "metadata": {},
   "outputs": [
    {
     "name": "stdout",
     "output_type": "stream",
     "text": [
      "5.1 5 10 Vkluchai blyat\n"
     ]
    }
   ],
   "source": [
    "#storing str,float,int\n",
    "turn = \"Vkluchai blyat\"\n",
    "num1 = 5.10\n",
    "num2 = 5\n",
    "num3 = 10\n",
    "print(num1,num2,num3,turn)"
   ]
  },
  {
   "cell_type": "code",
   "execution_count": 43,
   "metadata": {},
   "outputs": [
    {
     "name": "stdout",
     "output_type": "stream",
     "text": [
      "True\n"
     ]
    }
   ],
   "source": [
    "#storing boolean\n",
    "switch = True\n",
    "print(switch)"
   ]
  },
  {
   "cell_type": "code",
   "execution_count": 50,
   "metadata": {},
   "outputs": [
    {
     "name": "stdout",
     "output_type": "stream",
     "text": [
      "Andriy , 23\n"
     ]
    }
   ],
   "source": [
    "#storing string complex\n",
    "name = \"Andriy\"\n",
    "birth_day = \"23\"\n",
    "print(name,\",\",birth_day)"
   ]
  },
  {
   "cell_type": "code",
   "execution_count": 52,
   "metadata": {},
   "outputs": [
    {
     "name": "stdout",
     "output_type": "stream",
     "text": [
      "10.1\n"
     ]
    }
   ],
   "source": [
    "#two variables = one variable\n",
    "result = num1 + num2\n",
    "print(result)"
   ]
  },
  {
   "cell_type": "code",
   "execution_count": 62,
   "metadata": {},
   "outputs": [
    {
     "name": "stdout",
     "output_type": "stream",
     "text": [
      "14211.0\n",
      "142110.0\n"
     ]
    }
   ],
   "source": [
    "#complex operations with variables\n",
    "result += 1 #same as saying result = result + 1\n",
    "print(result)\n",
    "result *= num3 #as as saying result = result * num3(10)\n",
    "print(result)"
   ]
  },
  {
   "cell_type": "code",
   "execution_count": 65,
   "metadata": {},
   "outputs": [
    {
     "name": "stdout",
     "output_type": "stream",
     "text": [
      "Andriy\n",
      "Andrii\n"
     ]
    }
   ],
   "source": [
    "#defining a variable and overwriting it's value\n",
    "name = \"Andriy\"\n",
    "print(name)\n",
    "name = \"Andrii\"\n",
    "print(name)"
   ]
  },
  {
   "cell_type": "code",
   "execution_count": 68,
   "metadata": {},
   "outputs": [
    {
     "name": "stdout",
     "output_type": "stream",
     "text": [
      "Andriy Kulyk\n"
     ]
    }
   ],
   "source": [
    "#whitespacesmatter\n",
    "name = \"Andriy Kulyk\"\n",
    "print(name)"
   ]
  },
  {
   "cell_type": "code",
   "execution_count": 78,
   "metadata": {},
   "outputs": [
    {
     "name": "stdout",
     "output_type": "stream",
     "text": [
      "3 + 10 = 13\n"
     ]
    }
   ],
   "source": [
    "#tuesday exercises\n",
    "x = 3\n",
    "y = 10\n",
    "result = x+y\n",
    "result = \"3 + 10 = 13\"\n",
    "print(result)"
   ]
  },
  {
   "cell_type": "code",
   "execution_count": 80,
   "metadata": {},
   "outputs": [
    {
     "name": "stdout",
     "output_type": "stream",
     "text": [
      "3354.0764\n"
     ]
    }
   ],
   "source": [
    "#tuesday exercises\n",
    "width = 245.54\n",
    "height = 13.66\n",
    "result = width * height\n",
    "print(result)"
   ]
  },
  {
   "cell_type": "markdown",
   "metadata": {},
   "source": [
    "# Working with strings"
   ]
  },
  {
   "cell_type": "code",
   "execution_count": 84,
   "metadata": {},
   "outputs": [
    {
     "name": "stdout",
     "output_type": "stream",
     "text": [
      "Andriy Kulyk\n"
     ]
    }
   ],
   "source": [
    "#using the addition operator without variables\n",
    "name = \"Andriy\" + \" \" + \"Kulyk\"\n",
    "print(name)"
   ]
  },
  {
   "cell_type": "code",
   "execution_count": 87,
   "metadata": {},
   "outputs": [
    {
     "name": "stdout",
     "output_type": "stream",
     "text": [
      "Andriy Kulyk\n"
     ]
    }
   ],
   "source": [
    "#using the addition operator w/ variables\n",
    "first_name = \"Andriy\"\n",
    "last_name = \"Kulyk\"\n",
    "full_name = first_name + \" \" + last_name\n",
    "print(full_name)"
   ]
  },
  {
   "cell_type": "code",
   "execution_count": 92,
   "metadata": {},
   "outputs": [
    {
     "name": "stdout",
     "output_type": "stream",
     "text": [
      "Zdravstvuite Vladimir Vladimirovich, chto vi hoteli?\n",
      "Mne kajetsya ya hochu srati 19,Vladimir Vladimirovich,20\n"
     ]
    }
   ],
   "source": [
    "#injecting variables using the format method\n",
    "name = \"Vladimir Vladimirovich\"\n",
    "print(\"Zdravstvuite {}, chto vi hoteli?\".format(name))\n",
    "print(\"Mne kajetsya ya hochu srati {},{},{}\".format(19,name,20))"
   ]
  },
  {
   "cell_type": "code",
   "execution_count": 94,
   "metadata": {},
   "outputs": [
    {
     "name": "stdout",
     "output_type": "stream",
     "text": [
      "Hello Andriy\n"
     ]
    }
   ],
   "source": [
    "#using the f strings\n",
    "name = \"Andriy\"\n",
    "print(f\"Hello {name}\")"
   ]
  },
  {
   "cell_type": "code",
   "execution_count": 95,
   "metadata": {},
   "outputs": [
    {
     "name": "stdout",
     "output_type": "stream",
     "text": [
      "Hello, Andriy\n"
     ]
    }
   ],
   "source": [
    "# one major difference between versions 2 & 3\n",
    "name = 'Andriy'\n",
    "print('Hello, %s' % name)"
   ]
  },
  {
   "cell_type": "code",
   "execution_count": 96,
   "metadata": {},
   "outputs": [
    {
     "name": "stdout",
     "output_type": "stream",
     "text": [
      "Hello, Andriy Kulyk\n"
     ]
    }
   ],
   "source": [
    "# python 2 multiple variable formatting\n",
    "first_name = \"Andriy\"\n",
    "last_name = \"Kulyk\"\n",
    "print( \"Hello, %s %s\" % (first_name, last_name) )\n",
    " # surround the variables in parenthesis"
   ]
  },
  {
   "cell_type": "code",
   "execution_count": 104,
   "metadata": {},
   "outputs": [
    {
     "name": "stdout",
     "output_type": "stream",
     "text": [
      "Hlo\n"
     ]
    }
   ],
   "source": [
    "#using indexes to print each element\n",
    "word = \"Hello\"\n",
    "print(word[0:5:2])"
   ]
  },
  {
   "cell_type": "code",
   "execution_count": 118,
   "metadata": {},
   "outputs": [
    {
     "name": "stdout",
     "output_type": "stream",
     "text": [
      "23 4.5 False Andriy\n"
     ]
    }
   ],
   "source": [
    "#wednesday exercises\n",
    "num1 = 23\n",
    "num2 = 4.5\n",
    "switch = False\n",
    "name = \"Andriy\"\n",
    "print(f\"{num1} {num2} {switch} {name}\") #or we can do it print(num1,num2,switch,name)"
   ]
  },
  {
   "cell_type": "code",
   "execution_count": 123,
   "metadata": {},
   "outputs": [
    {
     "name": "stdout",
     "output_type": "stream",
     "text": [
      "Andriy's favorite sports is gaming.\n",
      "Andriy is working on studying programming!\n"
     ]
    }
   ],
   "source": [
    "#wednesday exercises\n",
    "favorite_act = \"gaming\"\n",
    "hobby = \"studying\"\n",
    "print(f\"{name}'s favorite sports is {favorite_act}.\")\n",
    "print(f\"{name} is working on {hobby} programming!\") #or we can do this print(\"{}'s favorite sports is {}\".format(name,favorite_act))\n",
    "                                                                        #print(\"{} is working on {} programming\".format(name,hobby) )"
   ]
  },
  {
   "cell_type": "markdown",
   "metadata": {},
   "source": [
    "# Manipulating strings"
   ]
  },
  {
   "cell_type": "code",
   "execution_count": 136,
   "metadata": {},
   "outputs": [
    {
     "name": "stdout",
     "output_type": "stream",
     "text": [
      "Andriy Kulyk\n"
     ]
    }
   ],
   "source": [
    "#using the title method to capitalize a string\n",
    "name = \"andriy kulyk\"\n",
    "print( name.title()) #name.upper() or name.lower()"
   ]
  },
  {
   "cell_type": "code",
   "execution_count": 151,
   "metadata": {
    "scrolled": true
   },
   "outputs": [
    {
     "name": "stdout",
     "output_type": "stream",
     "text": [
      "Hello there.\n"
     ]
    }
   ],
   "source": [
    "# replacing an exclamation point with a period\n",
    "words = words.replace(\"!\", \".\")\n",
    "print( words.replace( \"!\", \".\" ) ) #.replace(what's needs to be replaced\",\"replacment\")"
   ]
  },
  {
   "cell_type": "code",
   "execution_count": 153,
   "metadata": {},
   "outputs": [
    {
     "name": "stdout",
     "output_type": "stream",
     "text": [
      "5\n"
     ]
    }
   ],
   "source": [
    "#finding the starting index of our searched term\n",
    "s = \"Look over that way\"\n",
    "print( s.find(\"over\"))"
   ]
  },
  {
   "cell_type": "code",
   "execution_count": 1,
   "metadata": {},
   "outputs": [
    {
     "name": "stdout",
     "output_type": "stream",
     "text": [
      "ndriy\n"
     ]
    }
   ],
   "source": [
    "#removing white space with strip\n",
    "name = \"Andriy\"\n",
    "print( name.strip(\"A\"))            #lstrip or rstrip"
   ]
  },
  {
   "cell_type": "code",
   "execution_count": 178,
   "metadata": {},
   "outputs": [
    {
     "name": "stdout",
     "output_type": "stream",
     "text": [
      "['These', 'words', 'are', 'separated', 'by', 'spaces']\n"
     ]
    }
   ],
   "source": [
    "# converting a string into a list of words\n",
    "s = \"These words are separated by spaces\"\n",
    "print ( s.split())"
   ]
  },
  {
   "cell_type": "code",
   "execution_count": 180,
   "metadata": {},
   "outputs": [
    {
     "name": "stdout",
     "output_type": "stream",
     "text": [
      "UPPERCASE\n"
     ]
    }
   ],
   "source": [
    "#thursday exercises\n",
    "word = \"uppercase\"\n",
    "print(word.upper())"
   ]
  },
  {
   "cell_type": "code",
   "execution_count": 185,
   "metadata": {},
   "outputs": [
    {
     "name": "stdout",
     "output_type": "stream",
     "text": [
      "John Smith\n"
     ]
    }
   ],
   "source": [
    "#thursday exercises\n",
    "name = \"$$John Smith\"\n",
    "print(name.strip(\"$\")) #print(name.lstrip(\"$\")) - basically the same"
   ]
  },
  {
   "cell_type": "markdown",
   "metadata": {},
   "source": [
    "# Printing Receipts "
   ]
  },
  {
   "cell_type": "code",
   "execution_count": 74,
   "metadata": {},
   "outputs": [
    {
     "name": "stdout",
     "output_type": "stream",
     "text": [
      "*************************************************\n",
      "*\t\tMaslenok, Inc. \t\t\t*\n",
      "*\t\tHeroiv Maidanu. \t\t*\n",
      "*\t\tChernivtsi \t\t\t*\n",
      "=================================================\n",
      "*\tProduct Name\tProduct Price\t\t*\n",
      "*\tGPU\t\t$699 \t\t\t*\n",
      "*\tCPU\t\t$400 \t\t\t*\n",
      "*\tRAM\t\t$129 \t\t\t*\n",
      "=================================================\n",
      "*\t\t\tTotal \t\t\t*\n",
      "*\t\t\t$1228 \t\t\t*\n",
      "=================================================\n",
      "\n",
      "Thanks for shopping with ukranian eco-friendly brand\n",
      "\n",
      "*************************************************\n"
     ]
    }
   ],
   "source": [
    "#create a product and price for three items\n",
    "p1_name, p1_price = \"GPU\", 699\n",
    "p2_name, p2_price = \"CPU\", 400\n",
    "p3_name, p3_price = \"RAM\", 129\n",
    "#create a company name and information\n",
    "company_name = \"maslenok, inc.\"\n",
    "company_address = \"Heroiv Maidanu.\"\n",
    "company_city = \"Chernivtsi\"\n",
    "#bottom ending message\n",
    "message = \"Thanks for shopping with ukranian eco-friendly brand\"\n",
    "#create a top border\n",
    "print( \"*\" * 49)\n",
    "#print company information first, using format\n",
    "print(\"*\" \"\\t\\t{} \\t\\t\\t*\".format( company_name.title()))\n",
    "print(\"*\" \"\\t\\t{} \\t\\t*\".format( company_address))\n",
    "print(\"*\" \"\\t\\t{} \\t\\t\\t*\".format( company_city))\n",
    "#a line between sections\n",
    "print(\"=\" * 49)\n",
    "#print out header for section of items\n",
    "print(\"*\" \"\\tProduct Name\\tProduct Price\" \"\\t\\t*\")\n",
    "#create a print statement for each product\n",
    "print(\"*\" \"\\t{}\\t\\t${} \\t\\t\\t*\".format(p1_name.upper( ), p1_price))\n",
    "print(\"*\" \"\\t{}\\t\\t${} \\t\\t\\t*\".format(p2_name.upper( ), p2_price))\n",
    "print(\"*\" \"\\t{}\\t\\t${} \\t\\t\\t*\".format(p3_name.upper( ), p3_price))\n",
    "#print a line between sections\n",
    "print(\"=\" * 49)\n",
    "#print out header for section of total\n",
    "print(\"*\" \"\\t\\t\\tTotal \\t\\t\\t*\")\n",
    "#calculate total price and print out\n",
    "total = p1_price + p2_price + p3_price\n",
    "print(\"*\" \"\\t\\t\\t${} \\t\\t\\t*\".format(total)) #if print(\"\\t\\t\\t$\",total) - there will be whitespace between $ and total\n",
    "#print a line between sections\n",
    "print(\"=\" * 49)\n",
    "#output thanks message\n",
    "print(\"\\n{}\\n\".format(message))\n",
    "#create bottom border\n",
    "print(\"*\" * 49)\n",
    "\n",
    "\n",
    "\n"
   ]
  },
  {
   "cell_type": "code",
   "execution_count": 21,
   "metadata": {},
   "outputs": [
    {
     "name": "stdout",
     "output_type": "stream",
     "text": [
      "oe\n"
     ]
    }
   ],
   "source": [
    "#weekly challenge\n",
    "x = \"Hello\"\n",
    "print(x[::-3])"
   ]
  },
  {
   "cell_type": "code",
   "execution_count": null,
   "metadata": {},
   "outputs": [],
   "source": []
  }
 ],
 "metadata": {
  "kernelspec": {
   "display_name": "Python 3",
   "language": "python",
   "name": "python3"
  },
  "language_info": {
   "codemirror_mode": {
    "name": "ipython",
    "version": 3
   },
   "file_extension": ".py",
   "mimetype": "text/x-python",
   "name": "python",
   "nbconvert_exporter": "python",
   "pygments_lexer": "ipython3",
   "version": "3.8.5"
  }
 },
 "nbformat": 4,
 "nbformat_minor": 4
}
